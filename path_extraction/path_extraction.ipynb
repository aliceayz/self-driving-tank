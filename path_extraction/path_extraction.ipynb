{
 "cells": [
  {
   "cell_type": "code",
   "execution_count": null,
   "metadata": {},
   "outputs": [],
   "source": [
    "from PIL import Image\n",
    "import numpy as np"
   ]
  },
  {
   "cell_type": "code",
   "execution_count": null,
   "metadata": {},
   "outputs": [],
   "source": [
    "img = Image.open(\"Path no Labels.jpg\").convert(\"L\")\n",
    "img_arr = np.array(img)"
   ]
  },
  {
   "cell_type": "code",
   "execution_count": null,
   "metadata": {},
   "outputs": [],
   "source": [
    "for row in range(len(img_arr)):\n",
    "    for col in range(len(img_arr[row])):\n",
    "        if img_arr[row][col] > 100:\n",
    "            img_arr[row][col] = 255\n",
    "        else:\n",
    "            img_arr[row][col] = 0"
   ]
  },
  {
   "cell_type": "code",
   "execution_count": null,
   "metadata": {},
   "outputs": [],
   "source": [
    "img = Image.open(\"output.jpg\").convert(\"L\")\n",
    "img_arr = np.array(img)"
   ]
  },
  {
   "cell_type": "code",
   "execution_count": null,
   "metadata": {},
   "outputs": [],
   "source": [
    "ref_img = []\n",
    "counter = 0\n",
    "for row in range(len(img_arr)):\n",
    "    for ele in range(len(img_arr[0])):\n",
    "        if img_arr[row][ele] > 200:\n",
    "            img_arr[row][ele] = 255\n",
    "        elif img_arr[row][ele] < 50:\n",
    "            img_arr[row][ele] = 0\n",
    "        else:\n",
    "            img_arr[row][ele] = 100\n",
    "            ref_img.append([row, ele])\n",
    "        "
   ]
  },
  {
   "cell_type": "code",
   "execution_count": null,
   "metadata": {},
   "outputs": [],
   "source": [
    "ref_coo = [[43.471806, -80.547952], [43.471175, -80.549465]]\n",
    "my = (ref_coo[0][0] - ref_coo[1][0]) / (ref_img[0][0] - ref_img[1][0])\n",
    "mx = (ref_coo[0][1] - ref_coo[1][1]) / (ref_img[0][1] - ref_img[1][1])\n",
    "\n",
    "y_coo = lambda img_y : ref_coo[0][0] + (my * (img_y - ref_img[0][0]))\n",
    "x_coo = lambda img_x : ref_coo[0][1] + (mx * (img_x - ref_img[0][1]))"
   ]
  },
  {
   "cell_type": "code",
   "execution_count": null,
   "metadata": {},
   "outputs": [],
   "source": [
    "tree = {}\n",
    "for col in range(len(img_arr)):\n",
    "    for row in range(len(img_arr[0])):\n",
    "        if img_arr[col][row] != 255:\n",
    "            neighbours = []\n",
    "            for num1 in [-1, 0, 1]:\n",
    "                for num2 in [-1, 0, 1]:\n",
    "                    try:\n",
    "                        if img_arr[col + num1][row + num2] != 255 and num1 + num2 != 0:\n",
    "                            neighbours.append(\"(\" + str(col + num1) + \", \" + str(row + num2) + \")\")\n",
    "                    except:\n",
    "                        pass\n",
    "            tree[\"(\" + str(col) + \", \" + str(row) + \")\"] = (neighbours, (y_coo(col), x_coo(row)))"
   ]
  },
  {
   "cell_type": "code",
   "execution_count": null,
   "metadata": {},
   "outputs": [],
   "source": [
    "import cv2\n",
    "\n",
    "# Open the video capture device\n",
    "cap = cv2.VideoCapture(0)  # Use '0' for the default camera, or change to another index for a different device\n",
    "ret, image = cap.read()\n",
    "image.shape\n"
   ]
  }
 ],
 "metadata": {
  "kernelspec": {
   "display_name": "venv",
   "language": "python",
   "name": "python3"
  },
  "language_info": {
   "codemirror_mode": {
    "name": "ipython",
    "version": 3
   },
   "file_extension": ".py",
   "mimetype": "text/x-python",
   "name": "python",
   "nbconvert_exporter": "python",
   "pygments_lexer": "ipython3",
   "version": "3.11.5"
  }
 },
 "nbformat": 4,
 "nbformat_minor": 2
}
