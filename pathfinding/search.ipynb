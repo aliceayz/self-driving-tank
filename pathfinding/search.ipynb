{
  "cells": [
    {
      "cell_type": "code",
      "execution_count": null,
      "metadata": {
        "colab": {
          "base_uri": "https://localhost:8080/"
        },
        "id": "EmyK42cQZegn",
        "outputId": "fc22b083-e634-4483-cda1-7afc84fdc796"
      },
      "outputs": [],
      "source": [
        "%pip install gmplot"
      ]
    },
    {
      "cell_type": "code",
      "execution_count": null,
      "metadata": {
        "colab": {
          "base_uri": "https://localhost:8080/",
          "height": 777
        },
        "id": "sO27RW2BUpmt",
        "outputId": "98912698-3c3e-4bf6-b6ff-14db7ff8861e"
      },
      "outputs": [],
      "source": [
        "from PIL import Image\n",
        "import numpy as np\n",
        "\n",
        "img = Image.open(\"output.jpg\").convert(\"L\")\n",
        "img_arr = np.array(img)\n",
        "ref_img = []\n",
        "counter = 0\n",
        "for row in range(len(img_arr)):\n",
        "    for ele in range(len(img_arr[0])):\n",
        "        if img_arr[row][ele] > 200:\n",
        "            img_arr[row][ele] = 255\n",
        "        elif img_arr[row][ele] < 50:\n",
        "            img_arr[row][ele] = 0\n",
        "        else:\n",
        "            img_arr[row][ele] = 100\n",
        "            ref_img.append([row, ele])\n",
        "ref_coo = [[43.471806, -80.547952], [43.471175, -80.549465]]\n",
        "my = (ref_coo[0][0] - ref_coo[1][0]) / (ref_img[0][0] - ref_img[1][0])\n",
        "mx = (ref_coo[0][1] - ref_coo[1][1]) / (ref_img[0][1] - ref_img[1][1])\n",
        "\n",
        "y_coo = lambda img_y : ref_coo[0][0] + (my * (img_y - ref_img[0][0]))\n",
        "x_coo = lambda img_x : ref_coo[0][1] + (mx * (img_x - ref_img[0][1]))\n",
        "tree = {}\n",
        "for col in range(len(img_arr)):\n",
        "    for row in range(len(img_arr[0])):\n",
        "        if img_arr[col][row] != 255:\n",
        "            neighbours = []\n",
        "            for num1 in [-1, 0, 1]:\n",
        "                for num2 in [-1, 0, 1]:\n",
        "                    try:\n",
        "                        if img_arr[col + num1][row + num2] != 255 and num1 + num2 != 0:\n",
        "                            neighbours.append(\"(\" + str(col + num1) + \", \" + str(row + num2) + \")\")\n",
        "                    except:\n",
        "                        pass\n",
        "            tree[\"(\" + str(col) + \", \" + str(row) + \")\"] = (neighbours, (y_coo(col), x_coo(row)))"
      ]
    },
    {
      "cell_type": "code",
      "execution_count": null,
      "metadata": {
        "id": "9u4_iro0wInj"
      },
      "outputs": [],
      "source": [
        "import json\n",
        "\n",
        "json_string = json.dumps(tree)\n",
        "\n",
        "file_name = \"tree.txt\"\n",
        "\n",
        "with open(file_name, 'w') as file:\n",
        "    file.write(json_string)"
      ]
    },
    {
      "cell_type": "code",
      "execution_count": null,
      "metadata": {
        "colab": {
          "base_uri": "https://localhost:8080/"
        },
        "id": "ii6oxnHJHG7j",
        "outputId": "094a61a7-afdf-4559-cc0e-fd85cb8dff82"
      },
      "outputs": [],
      "source": [
        "from collections import deque\n",
        "\n",
        "def find_routes(tree, start_node, max_nodes=1000):\n",
        "    visited = set()\n",
        "    routes = []\n",
        "    queue = deque([(start_node, [start_node])])\n",
        "\n",
        "    while queue and len(routes) < max_nodes:\n",
        "        current_node, path = queue.popleft()\n",
        "        if current_node not in visited:\n",
        "            visited.add(current_node)\n",
        "            routes.append(path)\n",
        "\n",
        "            for neighbor in tree[current_node][0]:\n",
        "                if neighbor not in visited:\n",
        "                    queue.append((neighbor, path + [neighbor]))\n",
        "\n",
        "    return routes\n",
        "\n",
        "start_point = '(697, 117)'\n",
        "possible_routes = find_routes(tree, start_point)\n",
        "\n",
        "for route in possible_routes:\n",
        "    print(route)"
      ]
    },
    {
      "cell_type": "code",
      "execution_count": null,
      "metadata": {
        "id": "KcH2YlafneD8"
      },
      "outputs": [],
      "source": [
        "import gmplot\n",
        "\n",
        "map_center = tree['(6, 253)'][1]\n",
        "gmap = gmplot.GoogleMapPlotter(map_center[0], map_center[1], 12)\n",
        "\n",
        "node_keys = list(tree.keys())\n",
        "for i in range(0, len(node_keys), 5):\n",
        "    node = node_keys[i]\n",
        "    neighbors, coordinates = tree[node]\n",
        "\n",
        "    gmap.marker(coordinates[0], coordinates[1], title=node, clickable=True)\n",
        "\n",
        "    for neighbor in neighbors:\n",
        "        if neighbor in tree:\n",
        "            node_coords = coordinates\n",
        "            neighbor_coords = tree[neighbor][1]\n",
        "            edge_lats = [node_coords[0], neighbor_coords[0]]\n",
        "            edge_lons = [node_coords[1], neighbor_coords[1]]\n",
        "            gmap.plot(edge_lats, edge_lons, 'blue')\n",
        "\n",
        "gmap.draw(\"tree_map.html\")"
      ]
    },
    {
      "cell_type": "code",
      "execution_count": null,
      "metadata": {
        "id": "sNMp7cv0oSK-"
      },
      "outputs": [],
      "source": [
        "# source_node, target_node = '(697, 117)', '(33, 193)'\n",
        "source_node, target_node = '(235, 706)', '(260, 460)'"
      ]
    },
    {
      "cell_type": "code",
      "execution_count": null,
      "metadata": {
        "colab": {
          "base_uri": "https://localhost:8080/"
        },
        "id": "7ddtDM4LGP1l",
        "outputId": "0d111508-e7f7-4aed-8bda-9bddb90c0c92"
      },
      "outputs": [],
      "source": [
        "import heapq\n",
        "from math import radians, sin, cos, sqrt, atan2, degrees\n",
        "\n",
        "R = 6371000\n",
        "\n",
        "def haversine(coord1, coord2):\n",
        "    lat1, lon1 = map(radians, coord1)\n",
        "    lat2, lon2 = map(radians, coord2)\n",
        "\n",
        "    dlat = lat2 - lat1\n",
        "    dlon = lon2 - lon1\n",
        "\n",
        "    a = sin(dlat / 2) ** 2 + cos(lat1) * cos(lat2) * sin(dlon / 2) ** 2\n",
        "    c = 2 * atan2(sqrt(a), sqrt(1 - a))\n",
        "\n",
        "    return round(R * c, 5)\n",
        "\n",
        "def calculate_angle(coord1, coord2):\n",
        "    dx, dy = coord2[1] - coord1[1], coord2[0] - coord1[0]\n",
        "    return degrees(atan2(dy, dx))\n",
        "\n",
        "def smooth_path(path, tree):\n",
        "    smoothed_path = [path[0]]\n",
        "    i = 1\n",
        "    while i < len(path) - 1:\n",
        "        start_node = path[i - 1]\n",
        "        current_node = path[i]\n",
        "        end_node = path[i + 1]\n",
        "        start_coords, current_coords, end_coords = tree[start_node][1], tree[current_node][1], tree[end_node][1]\n",
        "        angle_start = calculate_angle(start_coords, current_coords)\n",
        "        angle_end = calculate_angle(current_coords, end_coords)\n",
        "\n",
        "        if abs(angle_start - angle_end) < 1e-5:\n",
        "            if round(angle_start) % 90 < 2:\n",
        "                smoothed_path[-1] = end_node\n",
        "            else:\n",
        "                smoothed_path.append(path[i])\n",
        "            i += 1\n",
        "        else:\n",
        "            smoothed_path.append(path[i])\n",
        "        i += 1\n",
        "    smoothed_path.append(path[-1])\n",
        "    return smoothed_path\n",
        "\n",
        "def dijkstra(tree, start, end):\n",
        "    graph = {node: {n: haversine(tree[node][1], tree[n][1]) for n in tree[node][0]} for node in tree}\n",
        "\n",
        "    distances = {node: float('inf') for node in graph}\n",
        "    distances[start] = 0\n",
        "    priority_queue = [(0, start)]\n",
        "    previous_nodes = {}\n",
        "\n",
        "    while priority_queue:\n",
        "        current_distance, current_node = heapq.heappop(priority_queue)\n",
        "        if current_distance > distances[current_node]:\n",
        "            continue\n",
        "\n",
        "        for neighbor, weight in graph[current_node].items():\n",
        "            distance = current_distance + weight\n",
        "            if distance < distances[neighbor]:\n",
        "                distances[neighbor] = distance\n",
        "                previous_nodes[neighbor] = current_node\n",
        "                heapq.heappush(priority_queue, (distance, neighbor))\n",
        "\n",
        "    path = []\n",
        "    current_node = end\n",
        "    while current_node != start:\n",
        "        path.insert(0, current_node)\n",
        "        current_node = previous_nodes[current_node]\n",
        "    path.insert(0, start)\n",
        "\n",
        "    total_distance = sum(distances[node] for node in path[1:])\n",
        "    for i in range(len(path) - 1):\n",
        "        start_node, end_node = path[i], path[i + 1]\n",
        "        distance = distances[end_node]\n",
        "        start_coords, end_coords = tree[start_node][1], tree[end_node][1]\n",
        "        angle = calculate_angle(start_coords, end_coords)\n",
        "        # print(f\"Move from {start_node} to {end_node}: Distance: {distance:.3f} m, Cartesian Angle: {angle:.3f} degrees\")\n",
        "\n",
        "    return path\n",
        "\n",
        "path = dijkstra(tree, source_node, target_node)\n",
        "smoothed_path = smooth_path(path, tree)\n",
        "\n",
        "for i in range(len(smoothed_path) - 1):\n",
        "    start_node, end_node = smoothed_path[i], smoothed_path[i + 1]\n",
        "    start_coords, end_coords = tree[start_node][1], tree[end_node][1]\n",
        "    distance = haversine(start_coords, end_coords)\n",
        "    angle = calculate_angle(start_coords, end_coords)\n",
        "    print(f\"Move from {start_node} to {end_node}: Distance: {distance:.3f} m, Cartesian Angle: {angle:.3f} degrees\")\n",
        "\n",
        "print(f\"Total distance of the path: {sum(haversine(tree[smoothed_path[i]][1], tree[smoothed_path[i+1]][1]) for i in range(len(smoothed_path) - 1)):.3f} m\")\n",
        "print(f'Shortest path: {\" -> \".join(smoothed_path)}')"
      ]
    },
    {
      "cell_type": "code",
      "execution_count": null,
      "metadata": {
        "colab": {
          "base_uri": "https://localhost:8080/",
          "height": 35
        },
        "id": "9dJgve2t0sDe",
        "outputId": "7168b3b1-4b90-44c8-c2c4-6446c63f4ba1"
      },
      "outputs": [],
      "source": [
        "def plot_on_map(tree, path):\n",
        "    gmap = gmplot.GoogleMapPlotter(tree[path[0]][1][0], tree[path[0]][1][1], 12)\n",
        "\n",
        "    lats, lons = [], []\n",
        "    for node in path:\n",
        "        lat, lon = tree[node][1]\n",
        "        lats.append(lat)\n",
        "        lons.append(lon)\n",
        "\n",
        "    gmap.plot(lats, lons, 'cornflowerblue', edge_width=5)\n",
        "\n",
        "    gmap.marker(lats[0], lons[0], 'green')\n",
        "    gmap.marker(lats[-1], lons[-1], 'red')\n",
        "\n",
        "    gmap.draw('path_on_map.html')\n",
        "    return 'path_on_map.html'\n",
        "\n",
        "smoothed_path = smooth_path(path, tree)\n",
        "\n",
        "plot_on_map(tree, smoothed_path)\n"
      ]
    },
    {
      "cell_type": "code",
      "execution_count": null,
      "metadata": {
        "id": "FuK8bHS6AfJp"
      },
      "outputs": [],
      "source": [
        "import matplotlib.pyplot as plt\n",
        "import networkx as nx"
      ]
    },
    {
      "cell_type": "code",
      "execution_count": null,
      "metadata": {
        "colab": {
          "base_uri": "https://localhost:8080/",
          "height": 499
        },
        "id": "6UVnq3fKAoEg",
        "outputId": "2bdd75b8-b712-4086-afce-df0c8cd4fd87"
      },
      "outputs": [],
      "source": [
        "all_coordinates = set()\n",
        "for node, (_, coords) in tree.items():\n",
        "    all_coordinates.add(coords)\n",
        "\n",
        "G = nx.Graph()\n",
        "\n",
        "for coord in all_coordinates:\n",
        "    G.add_node(coord)\n",
        "\n",
        "rotated_flipped_coords = {\n",
        "    (x, y): (y, x) for (x, y) in all_coordinates\n",
        "}\n",
        "\n",
        "pos = {coord: rotated_flipped_coords[coord] for coord in all_coordinates}\n",
        "\n",
        "plt.figure(figsize=(8, 6))\n",
        "\n",
        "smoothed_path_set = set(smoothed_path)\n",
        "\n",
        "coordinates_smoothed_path = [tree[node][1] for node in smoothed_path]\n",
        "\n",
        "for coord in coordinates_smoothed_path:\n",
        "    G.add_node(coord)\n",
        "\n",
        "nx.draw_networkx_nodes(G, pos, node_size=10)\n",
        "nx.draw_networkx_edges(G, pos, width=1.0, alpha=0.5)\n",
        "nx.draw_networkx_nodes(G, pos, nodelist=coordinates_smoothed_path, node_size=10, node_color='black')\n",
        "nx.draw_networkx_edges(G, pos, width=1.0, alpha=0.5)\n",
        "\n",
        "plt.axis('off')\n",
        "plt.show()"
      ]
    },
    {
      "cell_type": "code",
      "execution_count": null,
      "metadata": {
        "colab": {
          "base_uri": "https://localhost:8080/",
          "height": 1000
        },
        "id": "tQR_pHT9W5ap",
        "outputId": "108f2442-8fc8-4059-e480-6ae34743e2f3"
      },
      "outputs": [],
      "source": [
        "path = dijkstra(tree, source_node, target_node)\n",
        "path_coords = [tree[node][1] for node in path]\n",
        "\n",
        "y_coords = [coord[0] for coord in path_coords]\n",
        "x_coords = [coord[1] for coord in path_coords]\n",
        "\n",
        "poly_degree = 100\n",
        "polyfit = np.polyfit(x_coords, y_coords, poly_degree)\n",
        "poly = np.poly1d(polyfit)\n",
        "\n",
        "plt.figure(figsize=(9, 16))\n",
        "\n",
        "x_fit = np.linspace(min(x_coords), max(x_coords), 100)\n",
        "y_fit = poly(x_fit)\n",
        "\n",
        "plt.scatter(x_coords, y_coords, c='black', label='Original Path', s=200)\n",
        "\n",
        "source_coords = tree[source_node][1]\n",
        "target_coords = tree[target_node][1]\n",
        "\n",
        "plt.scatter(source_coords[1], source_coords[0], c=(1,0,0), label='Source Node', s=200)\n",
        "\n",
        "plt.scatter(target_coords[1], target_coords[0], c=(0,1,0), label='Target Node', s=200)\n",
        "\n",
        "plt.axis('off')\n",
        "plt.grid(False)\n",
        "plt.show()"
      ]
    },
    {
      "cell_type": "code",
      "execution_count": null,
      "metadata": {
        "colab": {
          "base_uri": "https://localhost:8080/",
          "height": 866
        },
        "id": "Yl9l5MaPEEYz",
        "outputId": "dc4988d8-b9cf-43ed-f69a-ab003e0fbece"
      },
      "outputs": [],
      "source": [
        "path = dijkstra(tree, source_node, target_node)\n",
        "smoothed_path = smooth_path(path, tree)\n",
        "\n",
        "G = nx.Graph()\n",
        "\n",
        "for i in range(len(smoothed_path) - 1):\n",
        "    start_node, end_node = smoothed_path[i], smoothed_path[i + 1]\n",
        "    G.add_edge(start_node, end_node)\n",
        "\n",
        "pos = {node: (tree[node][1][1], tree[node][1][0]) for node in tree}\n",
        "\n",
        "plt.figure(figsize=(16, 16))\n",
        "\n",
        "red = (1, 0, 0)\n",
        "green = (0, 1, 0)\n",
        "\n",
        "image_width = 1280\n",
        "image_height = 720\n",
        "\n",
        "red_node = smoothed_path[0]\n",
        "red_node_position = pos[red_node]\n",
        "\n",
        "image_x = int(red_node_position[0] * image_width)\n",
        "image_y = int(red_node_position[1] * image_height)\n",
        "\n",
        "print(f\"Image coordinates of the red node ({red_node}): ({image_x}, {image_y})\")\n",
        "\n",
        "node_colors = [red if node == smoothed_path[0] else green if node == smoothed_path[-1] else (0, 0, 0) for node in G.nodes]\n",
        "nx.draw_networkx_nodes(G, pos, node_size=1000, node_color=node_colors)\n",
        "nx.draw_networkx_edges(G, pos, width=30, alpha=1, edge_color='black')\n",
        "\n",
        "plt.axis('off')\n",
        "plt.savefig('graph_image.png', dpi=80)\n",
        "plt.show()"
      ]
    }
  ],
  "metadata": {
    "colab": {
      "provenance": []
    },
    "kernelspec": {
      "display_name": "Python 3",
      "name": "python3"
    },
    "language_info": {
      "codemirror_mode": {
        "name": "ipython",
        "version": 3
      },
      "file_extension": ".py",
      "mimetype": "text/x-python",
      "name": "python",
      "nbconvert_exporter": "python",
      "pygments_lexer": "ipython3",
      "version": "3.10.8"
    }
  },
  "nbformat": 4,
  "nbformat_minor": 0
}
